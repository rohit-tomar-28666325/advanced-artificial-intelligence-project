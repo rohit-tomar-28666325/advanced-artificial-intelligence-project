{
 "cells": [
  {
   "cell_type": "code",
   "execution_count": 8,
   "metadata": {},
   "outputs": [
    {
     "name": "stdout",
     "output_type": "stream",
     "text": [
      "   Group  Visit  MR Delay  M/F  Age  EDUC  SES  MMSE  CDR  eTIV   nWBV    ASF\n",
      "0      0      1         0    0   87    14    2    27  0.0  1987  0.696  0.883\n",
      "1      0      2       457    0   88    14    2    30  0.0  2004  0.681  0.876\n",
      "5      0      1         0    1   88    18    3    28  0.0  1215  0.710  1.444\n",
      "6      0      2       538    1   90    18    3    27  0.0  1200  0.718  1.462\n",
      "7      0      1         0    0   80    12    4    28  0.0  1689  0.712  1.039\n",
      "<class 'pandas.core.frame.DataFrame'>\n",
      "Index: 354 entries, 0 to 372\n",
      "Data columns (total 12 columns):\n",
      " #   Column    Non-Null Count  Dtype  \n",
      "---  ------    --------------  -----  \n",
      " 0   Group     354 non-null    int64  \n",
      " 1   Visit     354 non-null    int64  \n",
      " 2   MR Delay  354 non-null    int64  \n",
      " 3   M/F       354 non-null    int64  \n",
      " 4   Age       354 non-null    int64  \n",
      " 5   EDUC      354 non-null    int64  \n",
      " 6   SES       354 non-null    int32  \n",
      " 7   MMSE      354 non-null    int32  \n",
      " 8   CDR       354 non-null    float64\n",
      " 9   eTIV      354 non-null    int64  \n",
      " 10  nWBV      354 non-null    float64\n",
      " 11  ASF       354 non-null    float64\n",
      "dtypes: float64(3), int32(2), int64(7)\n",
      "memory usage: 33.2 KB\n",
      "None\n",
      "   Group  Visit  MR Delay  M/F  Age  EDUC  SES  MMSE  CDR  eTIV   nWBV    ASF\n",
      "0      0      1         0    0   87    14    2    27  0.0  1987  0.696  0.883\n",
      "1      0      2       457    0   88    14    2    30  0.0  2004  0.681  0.876\n",
      "5      0      1         0    1   88    18    3    28  0.0  1215  0.710  1.444\n",
      "6      0      2       538    1   90    18    3    27  0.0  1200  0.718  1.462\n",
      "7      0      1         0    0   80    12    4    28  0.0  1689  0.712  1.039\n"
     ]
    }
   ],
   "source": [
    "import pandas as pd\n",
    "\n",
    "# Load the dataset\n",
    "file_path = './data/dementia_data-MRI-features.csv'\n",
    "data = pd.read_csv(file_path)\n",
    "\n",
    "# Step 1: Drop rows with missing values in 'SES' and 'MMSE' columns\n",
    "data_cleaned = data.dropna(subset=['SES', 'MMSE'])\n",
    "\n",
    "# Step 2: Remove unnecessary columns ('Subject ID', 'MRI ID', 'Hand')\n",
    "data_cleaned = data_cleaned.drop(columns=['Subject ID', 'MRI ID', 'Hand'])\n",
    "\n",
    "# Encode 'Group' column: 'Nondemented' -> 0, 'Demented' -> 1\n",
    "data_cleaned['Group'] = data_cleaned['Group'].map({'Nondemented': 0, 'Demented': 1, 'Converted':2})\n",
    "\n",
    "# Encode 'M/F' column: 'M' -> 0, 'F' -> 1\n",
    "data_cleaned['M/F'] = data_cleaned['M/F'].map({'M': 0, 'F': 1})\n",
    "data_cleaned['SES'] = data_cleaned['SES'].astype(int)\n",
    "data_cleaned['MMSE'] = data_cleaned['MMSE'].astype(int)\n",
    "\n",
    "\n",
    "# Display the first few rows to verify encoding\n",
    "print(data_cleaned.head())\n",
    "\n",
    "# Display the cleaned data's structure and the first few rows to verify\n",
    "print(data_cleaned.info())\n",
    "print(data_cleaned.head())\n",
    "\n"
   ]
  },
  {
   "cell_type": "code",
   "execution_count": 9,
   "metadata": {},
   "outputs": [
    {
     "name": "stdout",
     "output_type": "stream",
     "text": [
      "Train and test datasets saved as 'dementia_data_train.csv' and 'dementia_data_test.csv'\n"
     ]
    }
   ],
   "source": [
    "from sklearn.model_selection import train_test_split\n",
    "\n",
    "# Define features and target variable\n",
    "X = data_cleaned.drop(columns=['Group'])\n",
    "y = data_cleaned['Group']\n",
    "\n",
    "# Perform 80:20 train-test split\n",
    "X_train, X_test, y_train, y_test = train_test_split(X, y, test_size=0.3, random_state=42, stratify=y)\n",
    "\n",
    "# Combine features and target for saving\n",
    "train_data = pd.concat([X_train, y_train], axis=1)\n",
    "test_data = pd.concat([X_test, y_test], axis=1)\n",
    "\n",
    "# Save to CSV files\n",
    "train_data.to_csv('./data/dementia_data_train.csv', index=False)\n",
    "test_data.to_csv('./data/dementia_data_test.csv', index=False)\n",
    "\n",
    "print(\"Train and test datasets saved as 'dementia_data_train.csv' and 'dementia_data_test.csv'\")\n"
   ]
  }
 ],
 "metadata": {
  "kernelspec": {
   "display_name": "AML",
   "language": "python",
   "name": "python3"
  },
  "language_info": {
   "codemirror_mode": {
    "name": "ipython",
    "version": 3
   },
   "file_extension": ".py",
   "mimetype": "text/x-python",
   "name": "python",
   "nbconvert_exporter": "python",
   "pygments_lexer": "ipython3",
   "version": "3.10.14"
  }
 },
 "nbformat": 4,
 "nbformat_minor": 2
}
